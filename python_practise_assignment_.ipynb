{
  "nbformat": 4,
  "nbformat_minor": 0,
  "metadata": {
    "colab": {
      "provenance": []
    },
    "kernelspec": {
      "name": "python3",
      "display_name": "Python 3"
    },
    "language_info": {
      "name": "python"
    }
  },
  "cells": [
    {
      "cell_type": "markdown",
      "source": [
        "# Practice problems"
      ],
      "metadata": {
        "id": "EVIu3VygU3N1"
      }
    },
    {
      "cell_type": "code",
      "execution_count": 1,
      "metadata": {
        "colab": {
          "base_uri": "https://localhost:8080/"
        },
        "id": "9LtCfsFtndYO",
        "outputId": "40c23fec-3eed-470a-9b41-9dd7d101e255"
      },
      "outputs": [
        {
          "output_type": "stream",
          "name": "stdout",
          "text": [
            "Enter the radius:\n",
            "8\n",
            "Area of circle is: 201.06192982974676\n"
          ]
        }
      ],
      "source": [
        "from math import pi\n",
        "r = int(input(\"Enter the radius:\\n\"))\n",
        "area = pi * r**2\n",
        "print (\"Area of circle is:\",area)"
      ]
    },
    {
      "cell_type": "code",
      "source": [
        "name = input(\"Enter the name:\\n\")\n",
        "Rollno = int(input(\"Enter the Rollno:\\n\"))\n",
        "Mark = int(input(\"Enter the Mark:\\n\"))\n",
        "print(  \"Name:\",name,\"\\n\",\"Rollnumber:\",Rollno,\"\\n\",\"Mark:\",Mark)"
      ],
      "metadata": {
        "colab": {
          "base_uri": "https://localhost:8080/"
        },
        "id": "yh3GZkcCnnQO",
        "outputId": "6236b511-e908-462d-d8b6-60f4e76c66ab"
      },
      "execution_count": 2,
      "outputs": [
        {
          "output_type": "stream",
          "name": "stdout",
          "text": [
            "Enter the name:\n",
            "Praveena\n",
            "Enter the Rollno:\n",
            "16\n",
            "Enter the Mark:\n",
            "95\n",
            "Name: Praveena \n",
            " Rollnumber: 16 \n",
            " Mark: 95\n"
          ]
        }
      ]
    },
    {
      "cell_type": "code",
      "source": [
        "def lar_list(list):\n",
        "  large = list[0]\n",
        "  for i in list:\n",
        "    if i>large:\n",
        "      large=i\n",
        "  return large\n",
        "\n",
        "l1=[12,3,47,10]\n",
        "print(\"The list is:\",l1,\"\\n\")\n",
        "print(lar_list(l1),\"is the largest number\")\n"
      ],
      "metadata": {
        "colab": {
          "base_uri": "https://localhost:8080/"
        },
        "id": "nDyH_oLxnnTV",
        "outputId": "471ecbab-0ec6-4132-c136-7bf517261080"
      },
      "execution_count": null,
      "outputs": [
        {
          "output_type": "stream",
          "name": "stdout",
          "text": [
            "The list is: [12, 3, 47, 10] \n",
            "\n",
            "47 is the largest number\n"
          ]
        }
      ]
    },
    {
      "cell_type": "code",
      "source": [
        "start = 5\n",
        "end = 10\n",
        "prev_num = 6\n",
        "\n",
        "for current_number in range(start, end + 1):\n",
        "    print(\"Current Number:\", current_number)\n",
        "    print(\"Previous Number:\", prev_num)\n",
        "    print(\"Sum:\", current_number + prev_num)\n",
        "    print()\n",
        "    prev_num = current_number"
      ],
      "metadata": {
        "colab": {
          "base_uri": "https://localhost:8080/"
        },
        "id": "JwhwTKPET0hn",
        "outputId": "a0edd279-0cfa-4b7c-ede3-431554d09923"
      },
      "execution_count": 3,
      "outputs": [
        {
          "output_type": "stream",
          "name": "stdout",
          "text": [
            "Current Number: 5\n",
            "Previous Number: 6\n",
            "Sum: 11\n",
            "\n",
            "Current Number: 6\n",
            "Previous Number: 5\n",
            "Sum: 11\n",
            "\n",
            "Current Number: 7\n",
            "Previous Number: 6\n",
            "Sum: 13\n",
            "\n",
            "Current Number: 8\n",
            "Previous Number: 7\n",
            "Sum: 15\n",
            "\n",
            "Current Number: 9\n",
            "Previous Number: 8\n",
            "Sum: 17\n",
            "\n",
            "Current Number: 10\n",
            "Previous Number: 9\n",
            "Sum: 19\n",
            "\n"
          ]
        }
      ]
    },
    {
      "cell_type": "code",
      "source": [
        "l2=[15,20,25,27,50]\n",
        "div5 = list(filter (lambda i: (i%5 == 0),l2))\n",
        "print(\"The list is:\",l2,\"\\n\",\"The divisors of 5 are:\",div5)\n",
        "\n"
      ],
      "metadata": {
        "colab": {
          "base_uri": "https://localhost:8080/"
        },
        "id": "tzzAgUkhnnWT",
        "outputId": "8a593a67-90c7-4bfe-a584-cf219904e8d2"
      },
      "execution_count": 4,
      "outputs": [
        {
          "output_type": "stream",
          "name": "stdout",
          "text": [
            "The list is: [15, 20, 25, 27, 50] \n",
            " The divisors of 5 are: [15, 20, 25, 50]\n"
          ]
        }
      ]
    },
    {
      "cell_type": "code",
      "source": [
        "\n",
        "num = int(input(\"Enter a number: \"))\n",
        "\n",
        "if num > 1:\n",
        "   for i in range(2,num):\n",
        "       if (num % i) == 0:\n",
        "           print(num,\"is not a prime number\")\n",
        "           break\n",
        "   else:\n",
        "       print(num,\"is a prime number\")\n",
        "else:\n",
        "   print(num,\"is not a prime number\")\n"
      ],
      "metadata": {
        "colab": {
          "base_uri": "https://localhost:8080/"
        },
        "id": "AR6hcdkynnZM",
        "outputId": "a50fa5e7-4265-423f-df5b-359f746fb9cb"
      },
      "execution_count": 5,
      "outputs": [
        {
          "output_type": "stream",
          "name": "stdout",
          "text": [
            "Enter a number: 7\n",
            "7 is a prime number\n"
          ]
        }
      ]
    },
    {
      "cell_type": "code",
      "source": [
        "l5=[12,19,20,25,30]\n",
        "print(\"List before reversal is:\",l5)\n",
        "r_list = []\n",
        "for i in l5:\n",
        "  r_list = [i] + r_list\n",
        "print(\"List after reversal is:\",r_list)"
      ],
      "metadata": {
        "colab": {
          "base_uri": "https://localhost:8080/"
        },
        "id": "L3kpg4XlnncE",
        "outputId": "ad16a492-6a4f-401e-a901-dd969d647efa"
      },
      "execution_count": 7,
      "outputs": [
        {
          "output_type": "stream",
          "name": "stdout",
          "text": [
            "List before reversal is: [12, 19, 20, 25, 30]\n",
            "List after reversal is: [30, 25, 20, 19, 12]\n"
          ]
        }
      ]
    },
    {
      "cell_type": "code",
      "source": [
        "def print_ptrn():\n",
        "  print(\"*\" * 1)\n",
        "  print(\"*\" * 2)\n",
        "  print(\"*\" * 3)\n",
        "  print(\"*\" * 4)\n",
        "\n",
        "print_ptrn()"
      ],
      "metadata": {
        "colab": {
          "base_uri": "https://localhost:8080/"
        },
        "id": "Pb8okNeWnniW",
        "outputId": "6c420341-474b-42cc-abb0-0a92a97cfa4e"
      },
      "execution_count": null,
      "outputs": [
        {
          "output_type": "stream",
          "name": "stdout",
          "text": [
            "*\n",
            "**\n",
            "***\n",
            "****\n"
          ]
        }
      ]
    },
    {
      "cell_type": "code",
      "source": [
        "num1 = int(input(\"Enter 1st number: \"))\n",
        "num2 = int(input(\"Enter 2nd number: \"))\n",
        "num3 = int(input(\"Enter 3rd number: \"))\n",
        "\n",
        "if(num1>num2) and (num1>num3):\n",
        "  print(num1,\"is greater\")\n",
        "elif(num2>num3) and (num2>num1):\n",
        "  print(num2,\"is greater\")\n",
        "else:\n",
        "  print(num3,\"is greater\")"
      ],
      "metadata": {
        "colab": {
          "base_uri": "https://localhost:8080/"
        },
        "id": "pxYMP8ANYZd1",
        "outputId": "59db8c9d-6ccd-4e9c-9706-05c54c528907"
      },
      "execution_count": 8,
      "outputs": [
        {
          "output_type": "stream",
          "name": "stdout",
          "text": [
            "Enter 1st number: 50\n",
            "Enter 2nd number: 78\n",
            "Enter 3rd number: 67\n",
            "78 is greater\n"
          ]
        }
      ]
    },
    {
      "cell_type": "code",
      "source": [
        "stars = 8\n",
        "\n",
        "for i in range(1, stars + 1):\n",
        "  print(\"*\" * i)\n",
        "for i in range(stars - 1,0,-1):\n",
        "     print(\"*\" * i)\n"
      ],
      "metadata": {
        "colab": {
          "base_uri": "https://localhost:8080/"
        },
        "id": "KUwysm2kYZgp",
        "outputId": "c8c1ae5d-a903-4994-f9e4-061aeacf0de5"
      },
      "execution_count": 9,
      "outputs": [
        {
          "output_type": "stream",
          "name": "stdout",
          "text": [
            "*\n",
            "**\n",
            "***\n",
            "****\n",
            "*****\n",
            "******\n",
            "*******\n",
            "********\n",
            "*******\n",
            "******\n",
            "*****\n",
            "****\n",
            "***\n",
            "**\n",
            "*\n"
          ]
        }
      ]
    },
    {
      "cell_type": "markdown",
      "source": [
        "# Practice problems 2"
      ],
      "metadata": {
        "id": "Iox5p5YvUw8h"
      }
    },
    {
      "cell_type": "code",
      "source": [
        "ex = input(\"Enter a string:\")\n",
        "co ={}\n",
        "for i in ex:\n",
        "  if i in co:\n",
        "    co[i]+= 1\n",
        "  else:\n",
        "    co[i]=1\n",
        "\n",
        "print(co)"
      ],
      "metadata": {
        "colab": {
          "base_uri": "https://localhost:8080/"
        },
        "id": "VND8SGvsYZjU",
        "outputId": "5f387d6c-f21a-49d0-b5f3-5feb80a16bc1"
      },
      "execution_count": 10,
      "outputs": [
        {
          "output_type": "stream",
          "name": "stdout",
          "text": [
            "Enter a string:a\n",
            "{'a': 1}\n"
          ]
        }
      ]
    },
    {
      "cell_type": "code",
      "source": [
        "def maximum(a, b, c):\n",
        "    list = [a, b, c]\n",
        "    return max(list)\n",
        "\n",
        "a = 32\n",
        "b = 34\n",
        "c = 70\n",
        "print(maximum(a, b, c))"
      ],
      "metadata": {
        "colab": {
          "base_uri": "https://localhost:8080/"
        },
        "id": "rUwecLFvVw9n",
        "outputId": "00a2fa7d-2c24-4928-cd63-973831824cfd"
      },
      "execution_count": 11,
      "outputs": [
        {
          "output_type": "stream",
          "name": "stdout",
          "text": [
            "70\n"
          ]
        }
      ]
    },
    {
      "cell_type": "code",
      "source": [
        "def exponent(base,exp):\n",
        "  return base ** exp\n",
        "\n",
        "base = int(input(\"Enter the base number:\"))\n",
        "exp = int(input(\"Enter its exponent:\"))\n",
        "result = exponent(base,exp)\n",
        "print(result)"
      ],
      "metadata": {
        "colab": {
          "base_uri": "https://localhost:8080/"
        },
        "id": "KSjqqqmkYZo_",
        "outputId": "43298b31-001b-43dc-9ac6-2d1db86d450f"
      },
      "execution_count": 12,
      "outputs": [
        {
          "output_type": "stream",
          "name": "stdout",
          "text": [
            "Enter the base number:10\n",
            "Enter its exponent:6\n",
            "1000000\n"
          ]
        }
      ]
    },
    {
      "cell_type": "code",
      "source": [
        "def soc(n):\n",
        "  soc = 0\n",
        "\n",
        "  for i in range(1,n):\n",
        "    soc += i **3\n",
        "\n",
        "  return soc\n",
        "\n",
        "ran =  int(input(\"Enter the range to find cube: \"))\n",
        "if ran > 1:\n",
        "  cube = soc(ran)\n",
        "  print(\"sum of cubes of +ve integer less then\",ran,\"is:\",cube)\n",
        "else:\n",
        "  print(\"Negative numbers are not accepted at the moment\")"
      ],
      "metadata": {
        "colab": {
          "base_uri": "https://localhost:8080/"
        },
        "id": "ac63HvFYYZsV",
        "outputId": "7db342de-5f92-4f30-f373-eba8fc5ff9e6"
      },
      "execution_count": 13,
      "outputs": [
        {
          "output_type": "stream",
          "name": "stdout",
          "text": [
            "Enter the range to find cube: 1000\n",
            "sum of cubes of +ve integer less then 1000 is: 249500250000\n"
          ]
        }
      ]
    },
    {
      "cell_type": "code",
      "source": [
        "for i in range(1, 9):\n",
        "    if i % 2 == 0 and i % 5 == 0:\n",
        "        print(\"FizzBuzz\")\n",
        "    elif i % 2 == 0:\n",
        "        print(\"Fizz\")\n",
        "    elif i % 5 == 0:\n",
        "        print(\"Buzz\")\n",
        "    else:\n",
        "        print(i)"
      ],
      "metadata": {
        "colab": {
          "base_uri": "https://localhost:8080/"
        },
        "id": "Eq_h4yzFWRDw",
        "outputId": "3fec127f-854a-4233-917f-a7156a879d2d"
      },
      "execution_count": 15,
      "outputs": [
        {
          "output_type": "stream",
          "name": "stdout",
          "text": [
            "1\n",
            "Fizz\n",
            "3\n",
            "Fizz\n",
            "Buzz\n",
            "Fizz\n",
            "7\n",
            "Fizz\n"
          ]
        }
      ]
    },
    {
      "cell_type": "code",
      "source": [
        "def lele(list):\n",
        "  return max(set(list),key = list.count)\n",
        "\n",
        "listtt=[2,3,4,5,2,2,2,]\n",
        "print(\"Most frequent element in\",listtt,\"is :\",lele(listtt))"
      ],
      "metadata": {
        "id": "c1JRapM2hYZc",
        "colab": {
          "base_uri": "https://localhost:8080/"
        },
        "outputId": "f8f919b7-8afc-4301-c89e-96ec16290c9d"
      },
      "execution_count": 16,
      "outputs": [
        {
          "output_type": "stream",
          "name": "stdout",
          "text": [
            "Most frequent element in [2, 3, 4, 5, 2, 2, 2] is : 2\n"
          ]
        }
      ]
    },
    {
      "cell_type": "code",
      "source": [
        "def sos(numbers):\n",
        "  return sum(num ** 2 for num in numbers)\n",
        "\n",
        "ln = [2,3,5,6,1]\n",
        "print(\"Sum of squares of\",ln,\"is :\",sos(ln))\n"
      ],
      "metadata": {
        "id": "GPrHQUW7hYc8",
        "colab": {
          "base_uri": "https://localhost:8080/"
        },
        "outputId": "e29cc382-dcae-43e4-e7f9-8f083916a996"
      },
      "execution_count": 17,
      "outputs": [
        {
          "output_type": "stream",
          "name": "stdout",
          "text": [
            "Sum of squares of [2, 3, 5, 6, 1] is : 75\n"
          ]
        }
      ]
    },
    {
      "cell_type": "code",
      "source": [
        "for i in range(1,125):\n",
        "  if (i % 2 == 0):\n",
        "    print(i,\"-\",\"even\")\n",
        "  else:\n",
        "    print(i,\"-\",\"odd\")"
      ],
      "metadata": {
        "id": "3GtDGNgJg87p",
        "colab": {
          "base_uri": "https://localhost:8080/"
        },
        "outputId": "2f05c0a8-0f79-464d-d1fc-d9d292a8cd68"
      },
      "execution_count": 18,
      "outputs": [
        {
          "output_type": "stream",
          "name": "stdout",
          "text": [
            "1 - odd\n",
            "2 - even\n",
            "3 - odd\n",
            "4 - even\n",
            "5 - odd\n",
            "6 - even\n",
            "7 - odd\n",
            "8 - even\n",
            "9 - odd\n",
            "10 - even\n",
            "11 - odd\n",
            "12 - even\n",
            "13 - odd\n",
            "14 - even\n",
            "15 - odd\n",
            "16 - even\n",
            "17 - odd\n",
            "18 - even\n",
            "19 - odd\n",
            "20 - even\n",
            "21 - odd\n",
            "22 - even\n",
            "23 - odd\n",
            "24 - even\n",
            "25 - odd\n",
            "26 - even\n",
            "27 - odd\n",
            "28 - even\n",
            "29 - odd\n",
            "30 - even\n",
            "31 - odd\n",
            "32 - even\n",
            "33 - odd\n",
            "34 - even\n",
            "35 - odd\n",
            "36 - even\n",
            "37 - odd\n",
            "38 - even\n",
            "39 - odd\n",
            "40 - even\n",
            "41 - odd\n",
            "42 - even\n",
            "43 - odd\n",
            "44 - even\n",
            "45 - odd\n",
            "46 - even\n",
            "47 - odd\n",
            "48 - even\n",
            "49 - odd\n",
            "50 - even\n",
            "51 - odd\n",
            "52 - even\n",
            "53 - odd\n",
            "54 - even\n",
            "55 - odd\n",
            "56 - even\n",
            "57 - odd\n",
            "58 - even\n",
            "59 - odd\n",
            "60 - even\n",
            "61 - odd\n",
            "62 - even\n",
            "63 - odd\n",
            "64 - even\n",
            "65 - odd\n",
            "66 - even\n",
            "67 - odd\n",
            "68 - even\n",
            "69 - odd\n",
            "70 - even\n",
            "71 - odd\n",
            "72 - even\n",
            "73 - odd\n",
            "74 - even\n",
            "75 - odd\n",
            "76 - even\n",
            "77 - odd\n",
            "78 - even\n",
            "79 - odd\n",
            "80 - even\n",
            "81 - odd\n",
            "82 - even\n",
            "83 - odd\n",
            "84 - even\n",
            "85 - odd\n",
            "86 - even\n",
            "87 - odd\n",
            "88 - even\n",
            "89 - odd\n",
            "90 - even\n",
            "91 - odd\n",
            "92 - even\n",
            "93 - odd\n",
            "94 - even\n",
            "95 - odd\n",
            "96 - even\n",
            "97 - odd\n",
            "98 - even\n",
            "99 - odd\n",
            "100 - even\n",
            "101 - odd\n",
            "102 - even\n",
            "103 - odd\n",
            "104 - even\n",
            "105 - odd\n",
            "106 - even\n",
            "107 - odd\n",
            "108 - even\n",
            "109 - odd\n",
            "110 - even\n",
            "111 - odd\n",
            "112 - even\n",
            "113 - odd\n",
            "114 - even\n",
            "115 - odd\n",
            "116 - even\n",
            "117 - odd\n",
            "118 - even\n",
            "119 - odd\n",
            "120 - even\n",
            "121 - odd\n",
            "122 - even\n",
            "123 - odd\n",
            "124 - even\n"
          ]
        }
      ]
    },
    {
      "cell_type": "code",
      "source": [
        "def ctf(celsius):\n",
        "  return (celsius * 9/5) + 32\n",
        "\n",
        "def ftc(fahreheit):\n",
        "  return (fahreheit - 32) * 5/9\n",
        "\n",
        "temp_fahr = 49\n",
        "temp_to_cel = ftc(temp_fahr)\n",
        "print(\"Temperature in celsius is:\" ,temp_to_cel)\n",
        "convert_cel_fahr = ctf(temp_to_cel)\n",
        "print(\"Temperature converted back to Fahreheit is:\" ,convert_cel_fahr)"
      ],
      "metadata": {
        "colab": {
          "base_uri": "https://localhost:8080/"
        },
        "id": "6fHnKFcV68z3",
        "outputId": "12b74237-ed18-46f4-8b93-d2f43cca8937"
      },
      "execution_count": 19,
      "outputs": [
        {
          "output_type": "stream",
          "name": "stdout",
          "text": [
            "Temperature in celsius is: 9.444444444444445\n",
            "Temperature converted back to Fahreheit is: 49.0\n"
          ]
        }
      ]
    },
    {
      "cell_type": "code",
      "source": [
        "def fact(n):\n",
        "  if(n == 0):\n",
        "    return 1\n",
        "  else:\n",
        "    return n * fact(n-1)\n",
        "\n",
        "num = int(input(\"Enter a number to find its factorial:\"))\n",
        "print(\"Factorial of\",num,\"is :\",fact(num))"
      ],
      "metadata": {
        "colab": {
          "base_uri": "https://localhost:8080/"
        },
        "id": "bEOzl9Z6682b",
        "outputId": "94e4fd4f-d927-4e87-c241-d0e6155271fb"
      },
      "execution_count": 20,
      "outputs": [
        {
          "output_type": "stream",
          "name": "stdout",
          "text": [
            "Enter a number to find its factorial:8\n",
            "Factorial of 8 is : 40320\n"
          ]
        }
      ]
    },
    {
      "cell_type": "markdown",
      "source": [
        "\n",
        "# Discord practice problem\n",
        "\n"
      ],
      "metadata": {
        "id": "Z0DVYUGTNi7D"
      }
    },
    {
      "cell_type": "code",
      "source": [
        "First = input(\"Enter your first name:\")\n",
        "Last = input(\"Enter your last name:\")\n",
        "\n",
        "name = First +' '+Last\n",
        "print(\"Hello\",name,\"! You just delved into python.\")"
      ],
      "metadata": {
        "id": "R_mPa3xyAJxh",
        "colab": {
          "base_uri": "https://localhost:8080/"
        },
        "outputId": "66ff4617-7578-4765-c4a7-fb91c469e6ea"
      },
      "execution_count": 21,
      "outputs": [
        {
          "output_type": "stream",
          "name": "stdout",
          "text": [
            "Enter your first name:Glory\n",
            "Enter your last name:James\n",
            "Hello Glory James ! You just delved into python.\n"
          ]
        }
      ]
    },
    {
      "cell_type": "code",
      "source": [
        "n = int(input(\"Enter the value:\"))\n",
        "\n",
        "if (n % 2 != 0):\n",
        "  print(n,\"is odd\")\n",
        "elif n >= 2 and n <= 9:\n",
        "  print(\"not weird\")\n",
        "elif n >= 6and n <= 25:\n",
        "  print(\"weird\")\n",
        "else:\n",
        "  print(\"not weird\")\n"
      ],
      "metadata": {
        "id": "z4EAVSe3685L",
        "colab": {
          "base_uri": "https://localhost:8080/"
        },
        "outputId": "a28178b2-0bec-4f14-85db-afa46570a9d6"
      },
      "execution_count": 22,
      "outputs": [
        {
          "output_type": "stream",
          "name": "stdout",
          "text": [
            "Enter the value:5\n",
            "5 is odd\n"
          ]
        }
      ]
    },
    {
      "cell_type": "code",
      "source": [],
      "metadata": {
        "id": "SQ9IxpUZ688n"
      },
      "execution_count": 22,
      "outputs": []
    },
    {
      "cell_type": "code",
      "source": [],
      "metadata": {
        "id": "q8YWK7DkYZ_n"
      },
      "execution_count": null,
      "outputs": []
    }
  ]
}